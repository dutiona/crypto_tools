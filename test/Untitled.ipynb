{
 "cells": [
  {
   "cell_type": "code",
   "execution_count": 19,
   "id": "95eee4d0",
   "metadata": {},
   "outputs": [],
   "source": [
    "import random, inspect"
   ]
  },
  {
   "cell_type": "code",
   "execution_count": 23,
   "id": "6bca0862",
   "metadata": {},
   "outputs": [],
   "source": [
    "random.seed(42)\n",
    "rd = random.Random(42)"
   ]
  },
  {
   "cell_type": "code",
   "execution_count": 24,
   "id": "d75b41f3",
   "metadata": {},
   "outputs": [
    {
     "data": {
      "text/plain": [
       "2746317213"
      ]
     },
     "execution_count": 24,
     "metadata": {},
     "output_type": "execute_result"
    }
   ],
   "source": [
    "inspect.getmembers(rd)\n",
    "rd._randbelow(10000000000)"
   ]
  },
  {
   "cell_type": "code",
   "execution_count": 29,
   "id": "056d8aef",
   "metadata": {},
   "outputs": [
    {
     "data": {
      "text/plain": [
       "10811315611749340775"
      ]
     },
     "execution_count": 29,
     "metadata": {},
     "output_type": "execute_result"
    }
   ],
   "source": [
    "p = 1587943574894564967\n",
    "# apply a mask to set MSB and LSB to 1\n",
    "p |= (1 << (64 - 1)) | 1\n",
    "p"
   ]
  },
  {
   "cell_type": "code",
   "execution_count": null,
   "id": "a2c2f06d",
   "metadata": {},
   "outputs": [],
   "source": [
    "10811315611749340775"
   ]
  }
 ],
 "metadata": {
  "kernelspec": {
   "display_name": "Python 3 (ipykernel)",
   "language": "python",
   "name": "python3"
  },
  "language_info": {
   "codemirror_mode": {
    "name": "ipython",
    "version": 3
   },
   "file_extension": ".py",
   "mimetype": "text/x-python",
   "name": "python",
   "nbconvert_exporter": "python",
   "pygments_lexer": "ipython3",
   "version": "3.9.12"
  }
 },
 "nbformat": 4,
 "nbformat_minor": 5
}
